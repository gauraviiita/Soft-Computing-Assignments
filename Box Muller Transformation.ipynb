{
 "cells": [
  {
   "cell_type": "markdown",
   "id": "corresponding-semiconductor",
   "metadata": {},
   "source": [
    "## Box-Muller Transformation Algorithm "
   ]
  },
  {
   "cell_type": "code",
   "execution_count": null,
   "id": "beneficial-vinyl",
   "metadata": {},
   "outputs": [],
   "source": [
    "### It transform from the Uniform distribution to Gaussian distribution"
   ]
  },
  {
   "cell_type": "code",
   "execution_count": 2,
   "id": "electrical-victoria",
   "metadata": {},
   "outputs": [],
   "source": [
    "import numpy as np\n",
    "import matplotlib.pyplot as plt"
   ]
  },
  {
   "cell_type": "code",
   "execution_count": 8,
   "id": "found-tokyo",
   "metadata": {},
   "outputs": [],
   "source": [
    "PI = 3.14159"
   ]
  },
  {
   "cell_type": "code",
   "execution_count": 4,
   "id": "working-wyoming",
   "metadata": {},
   "outputs": [],
   "source": [
    "u1 = np.random.uniform(0,1,1024)\n",
    "u2 = np.random.uniform(0,1,1024)"
   ]
  },
  {
   "cell_type": "code",
   "execution_count": 5,
   "id": "agricultural-paper",
   "metadata": {},
   "outputs": [
    {
     "data": {
      "image/png": "[encoded data removed]",
      "text/plain": [
       "<Figure size 432x288 with 1 Axes>"
      ]
     },
     "metadata": {
      "needs_background": "light"
     },
     "output_type": "display_data"
    }
   ],
   "source": [
    "plt.hist(u1, bins=20)\n",
    "plt.show()"
   ]
  },
  {
   "cell_type": "code",
   "execution_count": 6,
   "id": "interstate-tuning",
   "metadata": {},
   "outputs": [
    {
     "data": {
      "image/png": "[encoded data removed]",
      "text/plain": [
       "<Figure size 432x288 with 1 Axes>"
      ]
     },
     "metadata": {
      "needs_background": "light"
     },
     "output_type": "display_data"
    }
   ],
   "source": [
    "plt.hist(u2, bins=20)\n",
    "plt.show()"
   ]
  },
  {
   "cell_type": "markdown",
   "id": "center-yorkshire",
   "metadata": {},
   "source": [
    "$X = \\sqrt{-2 ln(U1)} cos(2\\pi U2)$\n",
    "\n",
    "$Y = \\sqrt{-2 ln(U1)} sin(2\\pi U2)$\n",
    "\n",
    "\n",
    "Where U1 and U2 are Uniform distribution\n",
    "\n",
    "And X and Y are Gaussian Distribution"
   ]
  },
  {
   "cell_type": "code",
   "execution_count": 9,
   "id": "ecological-saying",
   "metadata": {},
   "outputs": [],
   "source": [
    "ss=-np.log(u1)\n",
    "theta=2*PI*(u2)\n",
    "\n",
    "ss_rt=np.sqrt(2*ss)\n",
    "\n",
    "x=ss_rt*np.cos(theta)\n",
    "y=ss_rt*np.sin(theta)"
   ]
  },
  {
   "cell_type": "code",
   "execution_count": 10,
   "id": "activated-surprise",
   "metadata": {},
   "outputs": [
    {
     "data": {
      "image/png": "[encoded data removed]",
      "text/plain": [
       "<Figure size 432x288 with 1 Axes>"
      ]
     },
     "metadata": {
      "needs_background": "light"
     },
     "output_type": "display_data"
    },
    {
     "data": {
      "image/png": "[encoded data removed]",
      "text/plain": [
       "<Figure size 432x288 with 1 Axes>"
      ]
     },
     "metadata": {
      "needs_background": "light"
     },
     "output_type": "display_data"
    }
   ],
   "source": [
    "plt.hist(x, bins=32)\n",
    "plt.show()\n",
    "\n",
    "plt.hist(y, bins=32)\n",
    "plt.show()"
   ]
  },
  {
   "cell_type": "code",
   "execution_count": null,
   "id": "expected-housing",
   "metadata": {},
   "outputs": [],
   "source": []
  }
 ],
 "metadata": {
  "kernelspec": {
   "display_name": "Python 3",
   "language": "python",
   "name": "python3"
  },
  "language_info": {
   "codemirror_mode": {
    "name": "ipython",
    "version": 3
   },
   "file_extension": ".py",
   "mimetype": "text/x-python",
   "name": "python",
   "nbconvert_exporter": "python",
   "pygments_lexer": "ipython3",
   "version": "3.6.12"
  }
 },
 "nbformat": 4,
 "nbformat_minor": 5
}
