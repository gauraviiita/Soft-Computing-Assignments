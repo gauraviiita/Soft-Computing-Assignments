{
 "cells": [
  {
   "cell_type": "markdown",
   "id": "controlling-newsletter",
   "metadata": {},
   "source": [
    "# Problem -1"
   ]
  },
  {
   "cell_type": "markdown",
   "id": "united-mayor",
   "metadata": {},
   "source": [
    "## Make 15 samples, each sample will contain 10 classes(Age, Marks, height, etc.) and each class contain 20 entries (which we generate using random function generator). \n",
    "\n",
    "### Now calculate the mean and variance of each sample class.\n",
    "### And calculate the mean and variance for whole (200 entries) means for each sample."
   ]
  },
  {
   "cell_type": "markdown",
   "id": "corporate-meter",
   "metadata": {},
   "source": [
    "### Step -1"
   ]
  },
  {
   "cell_type": "markdown",
   "id": "interested-torture",
   "metadata": {},
   "source": [
    "#Create 15 samples\n",
    "Number of samples - S1, S2, S3, S4, S5, S6, S7, S8, S9, S10, S11, S12, S13, S14, S15 "
   ]
  },
  {
   "cell_type": "markdown",
   "id": "further-state",
   "metadata": {},
   "source": [
    "Each sample will contain 10 class and each class will contain 20 entries."
   ]
  },
  {
   "cell_type": "code",
   "execution_count": 22,
   "id": "worse-headquarters",
   "metadata": {},
   "outputs": [],
   "source": [
    "import numpy as np\n",
    "import random"
   ]
  },
  {
   "cell_type": "code",
   "execution_count": 23,
   "id": "broken-opposition",
   "metadata": {},
   "outputs": [],
   "source": [
    "age = np.random.randint(18,25,20) \n",
    "marks = np.random.randint(30, 100, 20) \n",
    "height = np.random.randint(130, 190, 20)\n",
    "weight = np.random.randint(35, 105, 20) \n",
    "iq = np.random.randint(80,130, 20)\n",
    "studyhr = np.random.randint(0,12, 20)\n",
    "sleephr = np.random.randint(4, 12, 20)\n",
    "prevmarks = np.random.randint(30, 100, 20)\n",
    "subjects = np.random.randint(1,6, 20)\n",
    "grescore = np.random.randint(130,170, 20)\n",
    "\n",
    "s1 = [age, marks, height, weight, iq, studyhr, sleephr, prevmarks, subjects, grescore]"
   ]
  },
  {
   "cell_type": "code",
   "execution_count": 24,
   "id": "marine-papua",
   "metadata": {},
   "outputs": [
    {
     "data": {
      "text/plain": [
       "[array([22, 21, 20, 20, 20, 24, 20, 24, 24, 20, 18, 20, 19, 24, 23, 20, 24,\n",
       "        21, 23, 18]),\n",
       " array([70, 99, 35, 37, 67, 63, 57, 81, 60, 73, 76, 39, 97, 33, 97, 84, 93,\n",
       "        58, 67, 94]),\n",
       " array([167, 159, 148, 144, 169, 136, 158, 182, 140, 162, 176, 189, 159,\n",
       "        148, 166, 159, 186, 169, 158, 184]),\n",
       " array([64, 90, 62, 95, 47, 52, 42, 91, 86, 67, 97, 86, 65, 57, 40, 57, 57,\n",
       "        53, 64, 53]),\n",
       " array([111, 129, 114,  99, 109, 125, 123, 102,  95,  87, 128, 108,  99,\n",
       "        107, 123,  99,  95,  86, 104, 102]),\n",
       " array([11,  5,  1,  3,  2,  6,  3, 10,  6,  7,  2,  8,  0,  1, 11,  8,  6,\n",
       "         0,  0,  1]),\n",
       " array([ 6, 11, 11,  8, 10,  8,  6,  4,  5,  4,  4,  9, 10,  6, 10,  9,  8,\n",
       "         7,  4, 10]),\n",
       " array([48, 41, 41, 82, 98, 75, 94, 70, 37, 37, 63, 88, 37, 64, 34, 35, 91,\n",
       "        80, 75, 51]),\n",
       " array([3, 5, 5, 2, 2, 2, 2, 5, 4, 5, 2, 2, 2, 3, 5, 4, 3, 4, 4, 3]),\n",
       " array([133, 162, 140, 162, 163, 135, 130, 167, 138, 154, 146, 162, 162,\n",
       "        154, 151, 157, 165, 134, 162, 154])]"
      ]
     },
     "execution_count": 24,
     "metadata": {},
     "output_type": "execute_result"
    }
   ],
   "source": [
    "s1"
   ]
  },
  {
   "cell_type": "markdown",
   "id": "liberal-parcel",
   "metadata": {},
   "source": [
    "# Calculate the mean and variance for each class of S1"
   ]
  },
  {
   "cell_type": "markdown",
   "id": "missing-developer",
   "metadata": {},
   "source": [
    "# Mean \n",
    "\n",
    "$ \\mu = \\frac{1}{N} (\\sum \\limits_{i=1}^N X_{i})$"
   ]
  },
  {
   "cell_type": "code",
   "execution_count": 48,
   "id": "undefined-royal",
   "metadata": {},
   "outputs": [],
   "source": [
    "def mean(x):\n",
    "    return (sum(x)/len(x))"
   ]
  },
  {
   "cell_type": "code",
   "execution_count": 56,
   "id": "french-converter",
   "metadata": {},
   "outputs": [
    {
     "data": {
      "text/plain": [
       "21.25"
      ]
     },
     "execution_count": 56,
     "metadata": {},
     "output_type": "execute_result"
    }
   ],
   "source": [
    "age_mean = mean(age)\n",
    "age_mean"
   ]
  },
  {
   "cell_type": "markdown",
   "id": "damaged-cheese",
   "metadata": {},
   "source": [
    "# Variance\n",
    "$\\sigma ^2 = \\frac{1}{N} ( \\sum \\limits_{i=1}^N (X_{i} - \\mu)^2)$"
   ]
  },
  {
   "cell_type": "code",
   "execution_count": 53,
   "id": "innocent-virus",
   "metadata": {},
   "outputs": [],
   "source": [
    "def variance(x, mu):                              \n",
    "    dev = [(i-mu)**2 for i in x]\n",
    "    var = mean(dev)\n",
    "    return(var)"
   ]
  },
  {
   "cell_type": "code",
   "execution_count": 58,
   "id": "cooked-williams",
   "metadata": {},
   "outputs": [
    {
     "data": {
      "text/plain": [
       "4.0875"
      ]
     },
     "execution_count": 58,
     "metadata": {},
     "output_type": "execute_result"
    }
   ],
   "source": [
    "age_var = variance(age, age_mean)\n",
    "age_var"
   ]
  },
  {
   "cell_type": "code",
   "execution_count": 60,
   "id": "simplified-macro",
   "metadata": {},
   "outputs": [
    {
     "data": {
      "text/plain": [
       "(69.0, 443.5)"
      ]
     },
     "execution_count": 60,
     "metadata": {},
     "output_type": "execute_result"
    }
   ],
   "source": [
    "marks_mean = mean(marks)\n",
    "marks_var = variance(marks, marks_mean)\n",
    "marks_mean, marks_var"
   ]
  },
  {
   "cell_type": "code",
   "execution_count": 61,
   "id": "periodic-healing",
   "metadata": {},
   "outputs": [
    {
     "name": "stdout",
     "output_type": "stream",
     "text": [
      "162.95 222.04750000000004\n"
     ]
    }
   ],
   "source": [
    "height_mean = mean(height)\n",
    "height_var = variance(height, height_mean)\n",
    "print(height_mean, height_var)"
   ]
  },
  {
   "cell_type": "code",
   "execution_count": 62,
   "id": "breathing-possession",
   "metadata": {},
   "outputs": [
    {
     "data": {
      "text/plain": [
       "(66.25, 310.8875)"
      ]
     },
     "execution_count": 62,
     "metadata": {},
     "output_type": "execute_result"
    }
   ],
   "source": [
    "weight_mean = mean(weight)\n",
    "weight_var = variance(weight, weight_mean)\n",
    "weight_mean, weight_var"
   ]
  },
  {
   "cell_type": "code",
   "execution_count": 64,
   "id": "promotional-prize",
   "metadata": {},
   "outputs": [
    {
     "data": {
      "text/plain": [
       "(107.25, 160.4875)"
      ]
     },
     "execution_count": 64,
     "metadata": {},
     "output_type": "execute_result"
    }
   ],
   "source": [
    "iq_mean = mean(iq)\n",
    "iq_var = variance(iq, iq_mean)\n",
    "iq_mean, iq_var"
   ]
  },
  {
   "cell_type": "code",
   "execution_count": 65,
   "id": "cooked-marble",
   "metadata": {},
   "outputs": [
    {
     "data": {
      "text/plain": [
       "(4.55, 13.347499999999997)"
      ]
     },
     "execution_count": 65,
     "metadata": {},
     "output_type": "execute_result"
    }
   ],
   "source": [
    "studyhr_mean = mean(studyhr)\n",
    "studyhr_var = variance(studyhr, studyhr_mean)\n",
    "studyhr_mean, studyhr_var"
   ]
  },
  {
   "cell_type": "markdown",
   "id": "disturbed-finger",
   "metadata": {},
   "source": [
    "## Mean and Variance of whole class data of sample S1"
   ]
  },
  {
   "cell_type": "code",
   "execution_count": 99,
   "id": "discrete-marriage",
   "metadata": {},
   "outputs": [],
   "source": [
    "allnum = np.append(age, marks)\n",
    "allnum = np.append(allnum, height)\n",
    "allnum = np.append(allnum, weight)\n",
    "allnum = np.append(allnum,iq)\n",
    "allnum = np.append(allnum, studyhr)\n",
    "allnum = np.append(allnum, sleephr)\n",
    "allnum = np.append(allnum, prevmarks)\n",
    "allnum = np.append(allnum,subjects)\n",
    "allnum = np.append(allnum, grescore)"
   ]
  },
  {
   "cell_type": "code",
   "execution_count": 100,
   "id": "mineral-influence",
   "metadata": {},
   "outputs": [
    {
     "data": {
      "text/plain": [
       "200"
      ]
     },
     "execution_count": 100,
     "metadata": {},
     "output_type": "execute_result"
    }
   ],
   "source": [
    "len(allnum)"
   ]
  },
  {
   "cell_type": "code",
   "execution_count": 101,
   "id": "understanding-gateway",
   "metadata": {},
   "outputs": [
    {
     "data": {
      "text/plain": [
       "array([ 22,  21,  20,  20,  20,  24,  20,  24,  24,  20,  18,  20,  19,\n",
       "        24,  23,  20,  24,  21,  23,  18,  70,  99,  35,  37,  67,  63,\n",
       "        57,  81,  60,  73,  76,  39,  97,  33,  97,  84,  93,  58,  67,\n",
       "        94, 167, 159, 148, 144, 169, 136, 158, 182, 140, 162, 176, 189,\n",
       "       159, 148, 166, 159, 186, 169, 158, 184,  64,  90,  62,  95,  47,\n",
       "        52,  42,  91,  86,  67,  97,  86,  65,  57,  40,  57,  57,  53,\n",
       "        64,  53, 111, 129, 114,  99, 109, 125, 123, 102,  95,  87, 128,\n",
       "       108,  99, 107, 123,  99,  95,  86, 104, 102,  11,   5,   1,   3,\n",
       "         2,   6,   3,  10,   6,   7,   2,   8,   0,   1,  11,   8,   6,\n",
       "         0,   0,   1,   6,  11,  11,   8,  10,   8,   6,   4,   5,   4,\n",
       "         4,   9,  10,   6,  10,   9,   8,   7,   4,  10,  48,  41,  41,\n",
       "        82,  98,  75,  94,  70,  37,  37,  63,  88,  37,  64,  34,  35,\n",
       "        91,  80,  75,  51,   3,   5,   5,   2,   2,   2,   2,   5,   4,\n",
       "         5,   2,   2,   2,   3,   5,   4,   3,   4,   4,   3, 133, 162,\n",
       "       140, 162, 163, 135, 130, 167, 138, 154, 146, 162, 162, 154, 151,\n",
       "       157, 165, 134, 162, 154])"
      ]
     },
     "execution_count": 101,
     "metadata": {},
     "output_type": "execute_result"
    }
   ],
   "source": [
    "allnum"
   ]
  },
  {
   "cell_type": "code",
   "execution_count": 102,
   "id": "laden-transcription",
   "metadata": {},
   "outputs": [
    {
     "data": {
      "text/plain": [
       "(65.57, 3335.1951000000013)"
      ]
     },
     "execution_count": 102,
     "metadata": {},
     "output_type": "execute_result"
    }
   ],
   "source": [
    "allnum_mean = mean(allnum)\n",
    "allnum_var = variance(allnum, allnum_mean)\n",
    "allnum_mean, allnum_var"
   ]
  }
 ],
 "metadata": {
  "kernelspec": {
   "display_name": "Python 3",
   "language": "python",
   "name": "python3"
  },
  "language_info": {
   "codemirror_mode": {
    "name": "ipython",
    "version": 3
   },
   "file_extension": ".py",
   "mimetype": "text/x-python",
   "name": "python",
   "nbconvert_exporter": "python",
   "pygments_lexer": "ipython3",
   "version": "3.6.12"
  }
 },
 "nbformat": 4,
 "nbformat_minor": 5
}
